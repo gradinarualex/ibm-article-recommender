{
 "cells": [
  {
   "cell_type": "markdown",
   "metadata": {},
   "source": [
    "# Recommendations with IBM\n",
    "\n",
    "## Table of Contents\n",
    "\n",
    "I. [Exploratory Data Analysis](#Exploratory-Data-Analysis)<br>\n",
    "II. [Rank Based Recommendations](#Rank)<br>\n",
    "III. [User-User Based Collaborative Filtering](#User-User)<br>\n",
    "IV. [Content Based Recommendations (OPTIONAL)](#Content-Recs)<br>\n",
    "V. [Matrix Factorization](#Matrix-Fact)<br>\n",
    "VI. [Extras & Concluding](#Conclusions)"
   ]
  },
  {
   "cell_type": "code",
   "execution_count": 1,
   "metadata": {},
   "outputs": [],
   "source": [
    "import pandas as pd\n",
    "import numpy as np\n",
    "\n",
    "import matplotlib.pyplot as plt\n",
    "import pickle\n",
    "\n",
    "import project_tests as t\n",
    "\n",
    "%matplotlib inline"
   ]
  },
  {
   "cell_type": "code",
   "execution_count": 2,
   "metadata": {},
   "outputs": [
    {
     "data": {
      "text/html": [
       "<div>\n",
       "<style scoped>\n",
       "    .dataframe tbody tr th:only-of-type {\n",
       "        vertical-align: middle;\n",
       "    }\n",
       "\n",
       "    .dataframe tbody tr th {\n",
       "        vertical-align: top;\n",
       "    }\n",
       "\n",
       "    .dataframe thead th {\n",
       "        text-align: right;\n",
       "    }\n",
       "</style>\n",
       "<table border=\"1\" class=\"dataframe\">\n",
       "  <thead>\n",
       "    <tr style=\"text-align: right;\">\n",
       "      <th></th>\n",
       "      <th>article_id</th>\n",
       "      <th>title</th>\n",
       "      <th>email</th>\n",
       "    </tr>\n",
       "  </thead>\n",
       "  <tbody>\n",
       "    <tr>\n",
       "      <th>0</th>\n",
       "      <td>1430</td>\n",
       "      <td>using pixiedust for fast, flexible, and easier...</td>\n",
       "      <td>ef5f11f77ba020cd36e1105a00ab868bbdbf7fe7</td>\n",
       "    </tr>\n",
       "    <tr>\n",
       "      <th>1</th>\n",
       "      <td>1314</td>\n",
       "      <td>healthcare python streaming application demo</td>\n",
       "      <td>083cbdfa93c8444beaa4c5f5e0f5f9198e4f9e0b</td>\n",
       "    </tr>\n",
       "    <tr>\n",
       "      <th>2</th>\n",
       "      <td>1429</td>\n",
       "      <td>use deep learning for image classification</td>\n",
       "      <td>b96a4f2e92d8572034b1e9b28f9ac673765cd074</td>\n",
       "    </tr>\n",
       "    <tr>\n",
       "      <th>3</th>\n",
       "      <td>1338</td>\n",
       "      <td>ml optimization using cognitive assistant</td>\n",
       "      <td>06485706b34a5c9bf2a0ecdac41daf7e7654ceb7</td>\n",
       "    </tr>\n",
       "    <tr>\n",
       "      <th>4</th>\n",
       "      <td>1276</td>\n",
       "      <td>deploy your python model as a restful api</td>\n",
       "      <td>f01220c46fc92c6e6b161b1849de11faacd7ccb2</td>\n",
       "    </tr>\n",
       "  </tbody>\n",
       "</table>\n",
       "</div>"
      ],
      "text/plain": [
       "   article_id                                              title  \\\n",
       "0        1430  using pixiedust for fast, flexible, and easier...   \n",
       "1        1314       healthcare python streaming application demo   \n",
       "2        1429         use deep learning for image classification   \n",
       "3        1338          ml optimization using cognitive assistant   \n",
       "4        1276          deploy your python model as a restful api   \n",
       "\n",
       "                                      email  \n",
       "0  ef5f11f77ba020cd36e1105a00ab868bbdbf7fe7  \n",
       "1  083cbdfa93c8444beaa4c5f5e0f5f9198e4f9e0b  \n",
       "2  b96a4f2e92d8572034b1e9b28f9ac673765cd074  \n",
       "3  06485706b34a5c9bf2a0ecdac41daf7e7654ceb7  \n",
       "4  f01220c46fc92c6e6b161b1849de11faacd7ccb2  "
      ]
     },
     "execution_count": 2,
     "metadata": {},
     "output_type": "execute_result"
    }
   ],
   "source": [
    "df = pd.read_csv('./data/user-item-interactions.csv')\n",
    "del df['Unnamed: 0']\n",
    "df['article_id'] = df['article_id'].astype(int)\n",
    "\n",
    "df.head()"
   ]
  },
  {
   "cell_type": "code",
   "execution_count": 3,
   "metadata": {},
   "outputs": [
    {
     "data": {
      "text/html": [
       "<div>\n",
       "<style scoped>\n",
       "    .dataframe tbody tr th:only-of-type {\n",
       "        vertical-align: middle;\n",
       "    }\n",
       "\n",
       "    .dataframe tbody tr th {\n",
       "        vertical-align: top;\n",
       "    }\n",
       "\n",
       "    .dataframe thead th {\n",
       "        text-align: right;\n",
       "    }\n",
       "</style>\n",
       "<table border=\"1\" class=\"dataframe\">\n",
       "  <thead>\n",
       "    <tr style=\"text-align: right;\">\n",
       "      <th></th>\n",
       "      <th>doc_body</th>\n",
       "      <th>doc_description</th>\n",
       "      <th>doc_full_name</th>\n",
       "      <th>doc_status</th>\n",
       "      <th>article_id</th>\n",
       "    </tr>\n",
       "  </thead>\n",
       "  <tbody>\n",
       "    <tr>\n",
       "      <th>0</th>\n",
       "      <td>Skip navigation Sign in SearchLoading...\\r\\n\\r...</td>\n",
       "      <td>Detect bad readings in real time using Python ...</td>\n",
       "      <td>Detect Malfunctioning IoT Sensors with Streami...</td>\n",
       "      <td>Live</td>\n",
       "      <td>0</td>\n",
       "    </tr>\n",
       "    <tr>\n",
       "      <th>1</th>\n",
       "      <td>No Free Hunch Navigation * kaggle.com\\r\\n\\r\\n ...</td>\n",
       "      <td>See the forest, see the trees. Here lies the c...</td>\n",
       "      <td>Communicating data science: A guide to present...</td>\n",
       "      <td>Live</td>\n",
       "      <td>1</td>\n",
       "    </tr>\n",
       "    <tr>\n",
       "      <th>2</th>\n",
       "      <td>☰ * Login\\r\\n * Sign Up\\r\\n\\r\\n * Learning Pat...</td>\n",
       "      <td>Here’s this week’s news in Data Science and Bi...</td>\n",
       "      <td>This Week in Data Science (April 18, 2017)</td>\n",
       "      <td>Live</td>\n",
       "      <td>2</td>\n",
       "    </tr>\n",
       "    <tr>\n",
       "      <th>3</th>\n",
       "      <td>DATALAYER: HIGH THROUGHPUT, LOW LATENCY AT SCA...</td>\n",
       "      <td>Learn how distributed DBs solve the problem of...</td>\n",
       "      <td>DataLayer Conference: Boost the performance of...</td>\n",
       "      <td>Live</td>\n",
       "      <td>3</td>\n",
       "    </tr>\n",
       "    <tr>\n",
       "      <th>4</th>\n",
       "      <td>Skip navigation Sign in SearchLoading...\\r\\n\\r...</td>\n",
       "      <td>This video demonstrates the power of IBM DataS...</td>\n",
       "      <td>Analyze NY Restaurant data using Spark in DSX</td>\n",
       "      <td>Live</td>\n",
       "      <td>4</td>\n",
       "    </tr>\n",
       "  </tbody>\n",
       "</table>\n",
       "</div>"
      ],
      "text/plain": [
       "                                            doc_body  \\\n",
       "0  Skip navigation Sign in SearchLoading...\\r\\n\\r...   \n",
       "1  No Free Hunch Navigation * kaggle.com\\r\\n\\r\\n ...   \n",
       "2  ☰ * Login\\r\\n * Sign Up\\r\\n\\r\\n * Learning Pat...   \n",
       "3  DATALAYER: HIGH THROUGHPUT, LOW LATENCY AT SCA...   \n",
       "4  Skip navigation Sign in SearchLoading...\\r\\n\\r...   \n",
       "\n",
       "                                     doc_description  \\\n",
       "0  Detect bad readings in real time using Python ...   \n",
       "1  See the forest, see the trees. Here lies the c...   \n",
       "2  Here’s this week’s news in Data Science and Bi...   \n",
       "3  Learn how distributed DBs solve the problem of...   \n",
       "4  This video demonstrates the power of IBM DataS...   \n",
       "\n",
       "                                       doc_full_name doc_status  article_id  \n",
       "0  Detect Malfunctioning IoT Sensors with Streami...       Live           0  \n",
       "1  Communicating data science: A guide to present...       Live           1  \n",
       "2         This Week in Data Science (April 18, 2017)       Live           2  \n",
       "3  DataLayer Conference: Boost the performance of...       Live           3  \n",
       "4      Analyze NY Restaurant data using Spark in DSX       Live           4  "
      ]
     },
     "execution_count": 3,
     "metadata": {},
     "output_type": "execute_result"
    }
   ],
   "source": [
    "df_content = pd.read_csv('./data/articles_community.csv')\n",
    "del df_content['Unnamed: 0']\n",
    "\n",
    "df_content.head()"
   ]
  },
  {
   "cell_type": "markdown",
   "metadata": {},
   "source": [
    "### <a class=\"anchor\" id=\"Exploratory-Data-Analysis\"> Part I : Exploratory Data Analysis</a>\n",
    "\n",
    "`1.` What is the distribution of how many articles a user interacts with in the dataset?  Provide a visual and descriptive statistics to assist with giving a look at the number of times each user interacts with an article."
   ]
  },
  {
   "cell_type": "code",
   "execution_count": 4,
   "metadata": {},
   "outputs": [
    {
     "name": "stdout",
     "output_type": "stream",
     "text": [
      "Overview:\n",
      " > 1056 user - article interactions in the dataset.\n",
      " > 5148 unique non-null users.\n",
      " > 714 unique non-null articles.\n",
      "\n",
      "\n",
      "Missing values:\n",
      " > col 'email' has 17 missing values.\n",
      "\n",
      "\n",
      "Descriptive Statistics:\n",
      " > min: 1\n",
      " > mean: 8.930846930846931\n",
      " > median: 3.0\n",
      " > max: 364\n",
      " > mode: 1\n"
     ]
    },
    {
     "data": {
      "image/png": "[encoded data removed]",
      "text/plain": [
       "<Figure size 432x288 with 1 Axes>"
      ]
     },
     "metadata": {
      "needs_background": "light"
     },
     "output_type": "display_data"
    }
   ],
   "source": [
    "### OVERVIEW SEGMENT\n",
    "print('Overview:')\n",
    "\n",
    "# get number of interactions (each row in the dataset represents an interaction)\n",
    "interactions = df_content.shape[0]\n",
    "# get number of unique emails (non-null) from dataset\n",
    "users = df['email'].nunique()\n",
    "# get number of unique articles (non-null) from dataset\n",
    "articles = df['article_id'].nunique()\n",
    "\n",
    "print(' > {} user - article interactions in the dataset.'.format(interactions))\n",
    "print(' > {} unique non-null users.'.format(users))\n",
    "print(' > {} unique non-null articles.'.format(articles))\n",
    "print('\\n')\n",
    "\n",
    "\n",
    "### MISSING DATA SEGMENT\n",
    "print('Missing values:')\n",
    "\n",
    "# create series with missing values count by col name (index)\n",
    "missing_counts = df.isnull().sum()\n",
    "# get list of col names with at least one missing value\n",
    "cols_missing_vals = missing_counts[missing_counts > 0].index.values\n",
    "# print each column and the number of missing values\n",
    "for col in cols_missing_vals:\n",
    "    print(' > col \\'{}\\' has {} missing values.'.format(col, missing_counts[col]))\n",
    "print('\\n')\n",
    "\n",
    "\n",
    "# DESCRIPTIVE STATISTICS SEGMENT\n",
    "print('Descriptive Statistics:')\n",
    "\n",
    "# create dataframe of how many articles each user interacted with\n",
    "articles_by_user = df.groupby(['email'])['article_id'].count()\n",
    "\n",
    "print(' > min: {}'.format(articles_by_user.min()))\n",
    "print(' > mean: {}'.format(articles_by_user.mean()))\n",
    "print(' > median: {}'.format(articles_by_user.median()))\n",
    "print(' > max: {}'.format(articles_by_user.max()))\n",
    "print(' > mode: {}'.format(articles_by_user.mode()[0]))\n",
    "\n",
    "# plot histogram of number of article interactions by user\n",
    "plt.hist(articles_by_user, bins=100)\n",
    "plt.title('Article Views per User Histogram')\n",
    "plt.xlabel('No. of Articles Viewed')\n",
    "plt.ylabel('No. of Users')\n",
    "plt.show()"
   ]
  },
  {
   "cell_type": "markdown",
   "metadata": {},
   "source": [
    "Most users interacted with multiple articles, but there are some who interacted with the same article multiple times, with the most frequent re-view of 42 times."
   ]
  },
  {
   "cell_type": "code",
   "execution_count": 5,
   "metadata": {},
   "outputs": [
    {
     "data": {
      "text/html": [
       "<div>\n",
       "<style scoped>\n",
       "    .dataframe tbody tr th:only-of-type {\n",
       "        vertical-align: middle;\n",
       "    }\n",
       "\n",
       "    .dataframe tbody tr th {\n",
       "        vertical-align: top;\n",
       "    }\n",
       "\n",
       "    .dataframe thead th {\n",
       "        text-align: right;\n",
       "    }\n",
       "</style>\n",
       "<table border=\"1\" class=\"dataframe\">\n",
       "  <thead>\n",
       "    <tr style=\"text-align: right;\">\n",
       "      <th></th>\n",
       "      <th>article_id</th>\n",
       "      <th>email</th>\n",
       "      <th>size</th>\n",
       "    </tr>\n",
       "  </thead>\n",
       "  <tbody>\n",
       "    <tr>\n",
       "      <th>0</th>\n",
       "      <td>0</td>\n",
       "      <td>2841916b462a2b89d36f4f95ca2d1f42559a5788</td>\n",
       "      <td>1</td>\n",
       "    </tr>\n",
       "    <tr>\n",
       "      <th>1</th>\n",
       "      <td>0</td>\n",
       "      <td>384255292a8223e84f05ca1e1deaa450c993e148</td>\n",
       "      <td>3</td>\n",
       "    </tr>\n",
       "    <tr>\n",
       "      <th>2</th>\n",
       "      <td>0</td>\n",
       "      <td>451a9a4a4cb1cc4e5f38d04e8859cc3fb275cc66</td>\n",
       "      <td>1</td>\n",
       "    </tr>\n",
       "    <tr>\n",
       "      <th>3</th>\n",
       "      <td>0</td>\n",
       "      <td>74ca1ae8b034f7fad73a54d55fb1f58747f00493</td>\n",
       "      <td>1</td>\n",
       "    </tr>\n",
       "    <tr>\n",
       "      <th>4</th>\n",
       "      <td>0</td>\n",
       "      <td>8bd0afc488016810c287ac4ec844895d570b0af4</td>\n",
       "      <td>1</td>\n",
       "    </tr>\n",
       "    <tr>\n",
       "      <th>...</th>\n",
       "      <td>...</td>\n",
       "      <td>...</td>\n",
       "      <td>...</td>\n",
       "    </tr>\n",
       "    <tr>\n",
       "      <th>33664</th>\n",
       "      <td>1444</td>\n",
       "      <td>6cce7568da5452718e1a3702edffac34a8da74ec</td>\n",
       "      <td>1</td>\n",
       "    </tr>\n",
       "    <tr>\n",
       "      <th>33665</th>\n",
       "      <td>1444</td>\n",
       "      <td>c45f9495a76bf95d2633444817f1be8205ad542d</td>\n",
       "      <td>1</td>\n",
       "    </tr>\n",
       "    <tr>\n",
       "      <th>33666</th>\n",
       "      <td>1444</td>\n",
       "      <td>d313c83ab3ed388ba16042a6cd33fce57d6a9e9a</td>\n",
       "      <td>1</td>\n",
       "    </tr>\n",
       "    <tr>\n",
       "      <th>33667</th>\n",
       "      <td>1444</td>\n",
       "      <td>d5843ed71361c87b364f578f20a48101289d60f9</td>\n",
       "      <td>1</td>\n",
       "    </tr>\n",
       "    <tr>\n",
       "      <th>33668</th>\n",
       "      <td>1444</td>\n",
       "      <td>fd824fc62b4753107e3db7704cd9e8a4a1c961f1</td>\n",
       "      <td>1</td>\n",
       "    </tr>\n",
       "  </tbody>\n",
       "</table>\n",
       "<p>33669 rows × 3 columns</p>\n",
       "</div>"
      ],
      "text/plain": [
       "       article_id                                     email  size\n",
       "0               0  2841916b462a2b89d36f4f95ca2d1f42559a5788     1\n",
       "1               0  384255292a8223e84f05ca1e1deaa450c993e148     3\n",
       "2               0  451a9a4a4cb1cc4e5f38d04e8859cc3fb275cc66     1\n",
       "3               0  74ca1ae8b034f7fad73a54d55fb1f58747f00493     1\n",
       "4               0  8bd0afc488016810c287ac4ec844895d570b0af4     1\n",
       "...           ...                                       ...   ...\n",
       "33664        1444  6cce7568da5452718e1a3702edffac34a8da74ec     1\n",
       "33665        1444  c45f9495a76bf95d2633444817f1be8205ad542d     1\n",
       "33666        1444  d313c83ab3ed388ba16042a6cd33fce57d6a9e9a     1\n",
       "33667        1444  d5843ed71361c87b364f578f20a48101289d60f9     1\n",
       "33668        1444  fd824fc62b4753107e3db7704cd9e8a4a1c961f1     1\n",
       "\n",
       "[33669 rows x 3 columns]"
      ]
     },
     "execution_count": 5,
     "metadata": {},
     "output_type": "execute_result"
    }
   ],
   "source": [
    "df[['article_id', 'email']].groupby(by=['article_id', 'email'], as_index=False).size()"
   ]
  },
  {
   "cell_type": "code",
   "execution_count": 6,
   "metadata": {},
   "outputs": [
    {
     "data": {
      "text/html": [
       "<div>\n",
       "<style scoped>\n",
       "    .dataframe tbody tr th:only-of-type {\n",
       "        vertical-align: middle;\n",
       "    }\n",
       "\n",
       "    .dataframe tbody tr th {\n",
       "        vertical-align: top;\n",
       "    }\n",
       "\n",
       "    .dataframe thead th {\n",
       "        text-align: right;\n",
       "    }\n",
       "</style>\n",
       "<table border=\"1\" class=\"dataframe\">\n",
       "  <thead>\n",
       "    <tr style=\"text-align: right;\">\n",
       "      <th></th>\n",
       "      <th>index</th>\n",
       "      <th>article_id</th>\n",
       "      <th>email</th>\n",
       "      <th>size</th>\n",
       "    </tr>\n",
       "  </thead>\n",
       "  <tbody>\n",
       "    <tr>\n",
       "      <th>0</th>\n",
       "      <td>20690</td>\n",
       "      <td>1170</td>\n",
       "      <td>1588af175b283915f597fc4719cbb2c8621c4fc2</td>\n",
       "      <td>42</td>\n",
       "    </tr>\n",
       "    <tr>\n",
       "      <th>1</th>\n",
       "      <td>20726</td>\n",
       "      <td>1170</td>\n",
       "      <td>363cb98a087e4a3eb6890fd1af2d418116f85ff8</td>\n",
       "      <td>41</td>\n",
       "    </tr>\n",
       "    <tr>\n",
       "      <th>2</th>\n",
       "      <td>31866</td>\n",
       "      <td>1429</td>\n",
       "      <td>2b6c0f514c2f2b04ad3c4583407dccd0810469ee</td>\n",
       "      <td>35</td>\n",
       "    </tr>\n",
       "    <tr>\n",
       "      <th>3</th>\n",
       "      <td>31990</td>\n",
       "      <td>1429</td>\n",
       "      <td>77959baaa9895a7e2bdc9297f8b27c1b6f2cb52a</td>\n",
       "      <td>35</td>\n",
       "    </tr>\n",
       "    <tr>\n",
       "      <th>4</th>\n",
       "      <td>32117</td>\n",
       "      <td>1429</td>\n",
       "      <td>c8afd6f4620184042cc48ca0eba9a657ac89e90e</td>\n",
       "      <td>25</td>\n",
       "    </tr>\n",
       "  </tbody>\n",
       "</table>\n",
       "</div>"
      ],
      "text/plain": [
       "   index  article_id                                     email  size\n",
       "0  20690        1170  1588af175b283915f597fc4719cbb2c8621c4fc2    42\n",
       "1  20726        1170  363cb98a087e4a3eb6890fd1af2d418116f85ff8    41\n",
       "2  31866        1429  2b6c0f514c2f2b04ad3c4583407dccd0810469ee    35\n",
       "3  31990        1429  77959baaa9895a7e2bdc9297f8b27c1b6f2cb52a    35\n",
       "4  32117        1429  c8afd6f4620184042cc48ca0eba9a657ac89e90e    25"
      ]
     },
     "execution_count": 6,
     "metadata": {},
     "output_type": "execute_result"
    }
   ],
   "source": [
    "# create dataframe with interaction duplicates\n",
    "dups_df = df[['article_id', 'email']]\\\n",
    "            .groupby(by=['article_id', 'email'], as_index=False)\\\n",
    "            .size()\\\n",
    "            .sort_values(by='size', ascending=False)\\\n",
    "            .reset_index()\n",
    "\n",
    "# remove any user-article interaction count lower than 2\n",
    "dups_df = dups_df[dups_df['size'] > 1]\n",
    "# display top 5\n",
    "dups_df.head()"
   ]
  },
  {
   "cell_type": "code",
   "execution_count": 7,
   "metadata": {},
   "outputs": [
    {
     "name": "stdout",
     "output_type": "stream",
     "text": [
      "Most viewed article is 1429 and got 937 views.\n"
     ]
    }
   ],
   "source": [
    "# count views per article for each article and store in a sorted series\n",
    "article_views = df.groupby(['article_id'], as_index=False)\\\n",
    "                    ['email'].count()\\\n",
    "                    .sort_values(by='email', ascending=False)\n",
    "\n",
    "# get first item id - article with most views\n",
    "most_viewed_article_id = article_views.iloc[0, 0]\n",
    "# get first item value - views the top article has\n",
    "max_views = article_views.iloc[0, 1]\n",
    "\n",
    "print('Most viewed article is {} and got {} views.'.format(most_viewed_article_id, max_views))"
   ]
  },
  {
   "cell_type": "markdown",
   "metadata": {},
   "source": [
    "#### Data Cleaning: here's where we clean the data seen previously to have a tidy dataset to work with"
   ]
  },
  {
   "cell_type": "code",
   "execution_count": 8,
   "metadata": {},
   "outputs": [
    {
     "name": "stdout",
     "output_type": "stream",
     "text": [
      "`df_content` size before removing duplicates: 1056\n",
      "`df_content` size after removing duplicates: 1051\n",
      "\n",
      "\n"
     ]
    },
    {
     "data": {
      "text/html": [
       "<div>\n",
       "<style scoped>\n",
       "    .dataframe tbody tr th:only-of-type {\n",
       "        vertical-align: middle;\n",
       "    }\n",
       "\n",
       "    .dataframe tbody tr th {\n",
       "        vertical-align: top;\n",
       "    }\n",
       "\n",
       "    .dataframe thead th {\n",
       "        text-align: right;\n",
       "    }\n",
       "</style>\n",
       "<table border=\"1\" class=\"dataframe\">\n",
       "  <thead>\n",
       "    <tr style=\"text-align: right;\">\n",
       "      <th></th>\n",
       "      <th>article_id</th>\n",
       "      <th>title</th>\n",
       "      <th>user_id</th>\n",
       "    </tr>\n",
       "  </thead>\n",
       "  <tbody>\n",
       "    <tr>\n",
       "      <th>0</th>\n",
       "      <td>1430</td>\n",
       "      <td>using pixiedust for fast, flexible, and easier...</td>\n",
       "      <td>1</td>\n",
       "    </tr>\n",
       "    <tr>\n",
       "      <th>1</th>\n",
       "      <td>1314</td>\n",
       "      <td>healthcare python streaming application demo</td>\n",
       "      <td>2</td>\n",
       "    </tr>\n",
       "    <tr>\n",
       "      <th>2</th>\n",
       "      <td>1429</td>\n",
       "      <td>use deep learning for image classification</td>\n",
       "      <td>3</td>\n",
       "    </tr>\n",
       "    <tr>\n",
       "      <th>3</th>\n",
       "      <td>1338</td>\n",
       "      <td>ml optimization using cognitive assistant</td>\n",
       "      <td>4</td>\n",
       "    </tr>\n",
       "    <tr>\n",
       "      <th>4</th>\n",
       "      <td>1276</td>\n",
       "      <td>deploy your python model as a restful api</td>\n",
       "      <td>5</td>\n",
       "    </tr>\n",
       "  </tbody>\n",
       "</table>\n",
       "</div>"
      ],
      "text/plain": [
       "   article_id                                              title  user_id\n",
       "0        1430  using pixiedust for fast, flexible, and easier...        1\n",
       "1        1314       healthcare python streaming application demo        2\n",
       "2        1429         use deep learning for image classification        3\n",
       "3        1338          ml optimization using cognitive assistant        4\n",
       "4        1276          deploy your python model as a restful api        5"
      ]
     },
     "execution_count": 8,
     "metadata": {},
     "output_type": "execute_result"
    }
   ],
   "source": [
    "# remove any rows that have the same article_id - only keep the first\n",
    "print('`df_content` size before removing duplicates: {}'.format(df_content.shape[0]))\n",
    "df_content.drop_duplicates(subset=['article_id'], inplace=True)\n",
    "print('`df_content` size after removing duplicates: {}'.format(df_content.shape[0]))\n",
    "\n",
    "print('\\n')\n",
    "\n",
    "# remove rows from user - article interaction with null user\n",
    "# print('`df` size before removing null emails: {}'.format(df.shape[0]))\n",
    "# df = df[~df['email'].isnull()]\n",
    "# print('`df` size after removing null emails: {}'.format(df.shape[0]))\n",
    "# \n",
    "# print('\\n')\n",
    "\n",
    "# define a user-to-mail mapper for annonymization\n",
    "def email_mapper(df, col='email'):\n",
    "    coded_dict = dict() # initialize empty dictionary\n",
    "    cter = 1 # initialize counter to 1\n",
    "    email_encoded = [] # initialize list of encoded emails\n",
    "    \n",
    "    # for each email\n",
    "    for val in df['email']:\n",
    "        # if email not already encoded\n",
    "        if val not in coded_dict:\n",
    "            # encode email with current counter value\n",
    "            coded_dict[val] = cter\n",
    "            # increment counter value by 1\n",
    "            cter += 1\n",
    "        \n",
    "        # add encoded value to list\n",
    "        email_encoded.append(coded_dict[val])\n",
    "        \n",
    "    with open('./email_encoding/encodings.pkl', 'wb') as file:\n",
    "        pickle.dump(coded_dict, file)\n",
    "        \n",
    "    # return list of encoded values\n",
    "    return email_encoded\n",
    "\n",
    "# get list of encodings\n",
    "email_encoded = email_mapper(df)\n",
    "# add column of user ids to the dataframe\n",
    "df['user_id'] = email_encoded\n",
    "# remove initial email column\n",
    "del df['email']\n",
    "\n",
    "# show results\n",
    "df.head()"
   ]
  },
  {
   "cell_type": "code",
   "execution_count": 9,
   "metadata": {},
   "outputs": [
    {
     "name": "stdout",
     "output_type": "stream",
     "text": [
      "It looks like you have everything right here! Nice job!\n"
     ]
    }
   ],
   "source": [
    "## If you stored all your results in the variable names above, \n",
    "## you shouldn't need to change anything in this cell\n",
    "\n",
    "median_val = articles_by_user.median()\n",
    "user_article_interactions = df.shape[0]\n",
    "max_views_by_user = articles_by_user.max()\n",
    "most_viewed_article_id = '1429.0'\n",
    "unique_articles = articles\n",
    "unique_users = users\n",
    "total_articles = df_content.shape[0]\n",
    "\n",
    "sol_1_dict = {\n",
    "    '`50% of individuals have _____ or fewer interactions.`': median_val,\n",
    "    '`The total number of user-article interactions in the dataset is ______.`': user_article_interactions,\n",
    "    '`The maximum number of user-article interactions by any 1 user is ______.`': max_views_by_user,\n",
    "    '`The most viewed article in the dataset was viewed _____ times.`': max_views,\n",
    "    '`The article_id of the most viewed article is ______.`': most_viewed_article_id,\n",
    "    '`The number of unique articles that have at least 1 rating ______.`': unique_articles,\n",
    "    '`The number of unique users in the dataset is ______`': unique_users,\n",
    "    '`The number of unique articles on the IBM platform`': total_articles\n",
    "}\n",
    "\n",
    "# Test your dictionary against the solution\n",
    "t.sol_1_test(sol_1_dict)"
   ]
  },
  {
   "cell_type": "markdown",
   "metadata": {},
   "source": [
    "### <a class=\"anchor\" id=\"Rank\">Part II: Rank-Based Recommendations</a>\n",
    "\n",
    "We don't have actual ratings for whether a user liked an article or not. We only know that a user has interacted with an article. In these cases, the popularity of an article can really only be based on how often an article was interacted with.\n",
    "\n",
    "`1.` Fill in the function below to return the **n** top articles ordered with most interactions as the top."
   ]
  },
  {
   "cell_type": "code",
   "execution_count": 10,
   "metadata": {},
   "outputs": [],
   "source": [
    "def get_top_articles(n, df=df):\n",
    "    ''' Gets the user-to-article interaction and\n",
    "        return list of top n articles viewed by users\n",
    "    \n",
    "        Args:\n",
    "            n - (int) the number of top articles to return\n",
    "            df - (pandas dataframe) df as defined at the top of the notebook\n",
    "            \n",
    "        Returns:\n",
    "            top_articles - (list) the top 'n' article titles\n",
    "    \n",
    "    '''\n",
    "    # count number of views per article id\n",
    "    views_per_article = df.groupby(['article_id'], as_index=False)\\\n",
    "                            ['user_id'].count()\\\n",
    "                            .sort_values(by='user_id', ascending=False)\n",
    "    \n",
    "    # get top n articles by views\n",
    "    top_n_views_per_article = views_per_article.iloc[:n, :]\n",
    "    # get list of ids of top n articles\n",
    "    top_article_ids = top_n_views_per_article['article_id'].tolist()\n",
    "    \n",
    "    # get list of unique articles and titles\n",
    "    articles_df = df[['article_id', 'title']].drop_duplicates().set_index('article_id')['title']\n",
    "    # get top article titles\n",
    "    top_articles = articles_df[top_article_ids].tolist()\n",
    "    \n",
    "    # return the top articles titles from df (not df_content)\n",
    "    return top_articles"
   ]
  },
  {
   "cell_type": "code",
   "execution_count": 11,
   "metadata": {},
   "outputs": [],
   "source": [
    "def get_top_article_ids(n, df=df):\n",
    "    ''' Gets the user-to-article interaction and\n",
    "        return list of top n article ids viewed\n",
    "        by users\n",
    "    \n",
    "        Args:\n",
    "            n - (int) the number of top articles to return\n",
    "            df - (pandas dataframe) df as defined at the top of the notebook\n",
    "            \n",
    "        Returns:\n",
    "            top_article_ids - (list) the top 'n' article ids\n",
    "    \n",
    "    '''\n",
    "    # count number of views per article id\n",
    "    views_per_article = df.groupby(['article_id'], as_index=False)\\\n",
    "                            ['user_id'].count()\\\n",
    "                            .sort_values(by='user_id', ascending=False)\n",
    "    \n",
    "    # get top n articles by views\n",
    "    top_n_views_per_article = views_per_article.iloc[:n, :]\n",
    "    # get list of ids of top n articles\n",
    "    top_article_ids = top_n_views_per_article['article_id'].tolist()\n",
    "    \n",
    "    # return the top articles ids from df (not df_content)\n",
    "    return top_article_ids"
   ]
  },
  {
   "cell_type": "code",
   "execution_count": 12,
   "metadata": {},
   "outputs": [
    {
     "name": "stdout",
     "output_type": "stream",
     "text": [
      "['use deep learning for image classification', 'insights from new york car accident reports', 'visualize car data with brunel', 'use xgboost, scikit-learn & ibm watson machine learning apis', 'predicting churn with the spss random tree algorithm', 'healthcare python streaming application demo', 'finding optimal locations of new store using decision optimization', 'apache spark lab, part 1: basic concepts', 'analyze energy consumption in buildings', 'gosales transactions for logistic regression model']\n"
     ]
    }
   ],
   "source": [
    "print(get_top_articles(10))"
   ]
  },
  {
   "cell_type": "code",
   "execution_count": 13,
   "metadata": {},
   "outputs": [
    {
     "name": "stdout",
     "output_type": "stream",
     "text": [
      "Your top_5 looks like the solution list! Nice job.\n",
      "Your top_10 looks like the solution list! Nice job.\n",
      "Your top_20 looks like the solution list! Nice job.\n"
     ]
    }
   ],
   "source": [
    "# Test your function by returning the top 5, 10, and 20 articles\n",
    "top_5 = get_top_articles(5)\n",
    "top_10 = get_top_articles(10)\n",
    "top_20 = get_top_articles(20)\n",
    "\n",
    "# Test each of your three lists from above\n",
    "t.sol_2_test(get_top_articles)"
   ]
  },
  {
   "cell_type": "markdown",
   "metadata": {},
   "source": [
    "### <a class=\"anchor\" id=\"\">Part III: User-User Based Collaborative Filtering</a>\n",
    "\n",
    "`1.` Use the function below to reformat the **df** dataframe to be shaped with users as the rows and articles as the columns.  \n",
    "  * Each **user** should only appear in each **row** once.  \n",
    "  * Each **article** should only show up in one **column**.  \n",
    "  * **If a user has interacted with an article, then place a 1 where the user-row meets for that article-column.** It does not matter how many times a user has interacted with the article, all entries where a user has interacted with an article should be a 1.  \n",
    "  * **If a user has not interacted with an item, then place a zero where the user-row meets for that article-column**."
   ]
  },
  {
   "cell_type": "code",
   "execution_count": 14,
   "metadata": {},
   "outputs": [],
   "source": [
    "# create the user-article matrix with 1's and 0's\n",
    "def create_user_item_matrix(df):\n",
    "    ''' Return a matrix with user ids as rows and article ids on the columns\n",
    "        with 1 values where a user interacted with an article and a 0 otherwise\n",
    "    \n",
    "        Args: \n",
    "            df - (pandas dataframe) with article_id, title, user_id columns\n",
    "            \n",
    "        Returns:\n",
    "            user_item - user_item matrix\n",
    "    '''\n",
    "    \n",
    "    df_copy = df.copy(deep=True)\n",
    "    \n",
    "    df_copy['view_count'] = 1\n",
    "    pivot = pd.pivot_table(df_copy, values='view_count', index=['user_id'], columns=['article_id'], aggfunc=np.sum)\n",
    "    user_item = (pivot >= 1) * 1\n",
    "    \n",
    "    return user_item # return the user_item matrix"
   ]
  },
  {
   "cell_type": "code",
   "execution_count": 15,
   "metadata": {},
   "outputs": [
    {
     "name": "stdout",
     "output_type": "stream",
     "text": [
      "All quick tests passed!\n"
     ]
    }
   ],
   "source": [
    "user_item = create_user_item_matrix(df)\n",
    "\n",
    "## Tests: You should just need to run this cell.  Don't change the code.\n",
    "assert user_item.shape[0] == 5149, \"Oops!  The number of users in the user-article matrix doesn't look right.\"\n",
    "assert user_item.shape[1] == 714, \"Oops!  The number of articles in the user-article matrix doesn't look right.\"\n",
    "assert user_item.sum(axis=1)[1] == 36, \"Oops!  The number of articles seen by user 1 doesn't look right.\"\n",
    "print(\"All quick tests passed!\")"
   ]
  },
  {
   "cell_type": "markdown",
   "metadata": {},
   "source": [
    "`2.` Complete  the function below which should take a user_id and provide an ordered list of the most similar users to that user (from most similar to least similar). The returned result should not contain the provided user_id, as we know that each user is similar to him/herself. Because the results for each user here are binary, it (perhaps makes sense to compute similarity as the dot product of two users."
   ]
  },
  {
   "cell_type": "code",
   "execution_count": 16,
   "metadata": {},
   "outputs": [],
   "source": [
    "def find_similar_users(user_id, user_item=user_item):\n",
    "    ''' Computes the similarity of every pair of users based\n",
    "        on the dot product.\n",
    "    \n",
    "        Args:\n",
    "            user_id - (int) a user_id\n",
    "            user_item - (pandas dataframe) matrix of users by\n",
    "                articles: 1's when a user has interacted with\n",
    "                an article, 0 otherwise\n",
    "                \n",
    "        Returns:\n",
    "            similar_user - (list) an ordered list where the closest\n",
    "                users (largest dot product users) are listed first\n",
    "                \n",
    "    '''\n",
    "    \n",
    "    # compute similarity of each user to the provided user\n",
    "    user_similarity = user_item.dot(user_item.loc[user_id, :])\n",
    "    \n",
    "    # sort by similarity\n",
    "    user_similarity = user_similarity.sort_values(ascending=False)\n",
    "    \n",
    "    # create a list of just the ids\n",
    "    most_similar_users = user_similarity.index.tolist()\n",
    "    \n",
    "    # remove the own user's id\n",
    "    most_similar_users.remove(user_id)\n",
    "    \n",
    "    # return a list of the users in order from most to least similar\n",
    "    return most_similar_users"
   ]
  },
  {
   "cell_type": "code",
   "execution_count": 17,
   "metadata": {},
   "outputs": [
    {
     "name": "stdout",
     "output_type": "stream",
     "text": [
      "The 10 most similar users to user 1 are: [3933, 23, 3782, 203, 4459, 3870, 131, 4201, 46, 5041]\n",
      "The 5 most similar users to user 3933 are: [1, 23, 3782, 203, 4459]\n",
      "The 3 most similar users to user 46 are: [4201, 3782, 23]\n"
     ]
    }
   ],
   "source": [
    "# Do a spot check of your function\n",
    "print(\"The 10 most similar users to user 1 are: {}\".format(find_similar_users(1)[:10]))\n",
    "print(\"The 5 most similar users to user 3933 are: {}\".format(find_similar_users(3933)[:5]))\n",
    "print(\"The 3 most similar users to user 46 are: {}\".format(find_similar_users(46)[:3]))"
   ]
  },
  {
   "cell_type": "markdown",
   "metadata": {},
   "source": [
    "`3.` Now that you have a function that provides the most similar users to each user, you will want to use these users to find articles you can recommend.  Complete the functions below to return the articles you would recommend to each user."
   ]
  },
  {
   "cell_type": "code",
   "execution_count": 18,
   "metadata": {},
   "outputs": [],
   "source": [
    "def get_article_names(article_ids, df=df):\n",
    "    ''' Gets article name based on article id using df (interactions) dataframe\n",
    "    \n",
    "        Args:\n",
    "            article_ids - (list) article ids\n",
    "            df - (pandas dataframe) df as defined at the top of the notebook\n",
    "            \n",
    "        Returns:\n",
    "            article_names - (list) article names associated with the list\n",
    "                of article ids (this is identified by the 'title' column)\n",
    "    '''\n",
    "    \n",
    "    # get dataframe of article_id and title of articles inputed\n",
    "    article_series = df[df['article_id'].isin(article_ids)][['article_id', 'title']]\n",
    "    # remove duplicates\n",
    "    article_series = article_series.drop_duplicates()\n",
    "    # set article_id as index to get article_names in the inputed order\n",
    "    article_series = article_series.set_index('article_id')\n",
    "    # get list of article_names in correct order\n",
    "    article_ordered = article_series.loc[article_ids]\n",
    "    # get article names in correct order (as inputed)\n",
    "    article_names = article_ordered['title'].tolist()\n",
    "    \n",
    "    # return the article names associated with list of article ids\n",
    "    return article_names"
   ]
  },
  {
   "cell_type": "code",
   "execution_count": 19,
   "metadata": {},
   "outputs": [],
   "source": [
    "def get_user_articles(user_id, user_item=user_item):\n",
    "    ''' Provides a list of the article_ids and article titles that\n",
    "        have been seen by a user\n",
    "        \n",
    "        Args:\n",
    "            user_id - (int) a user id\n",
    "            user_item - (pandas dataframe) matrix of users by articles:\n",
    "                1's when a user has interacted with an article, 0 otherwise\n",
    "                \n",
    "        Returns:\n",
    "            article_ids - (list) article ids seen by the user\n",
    "            article_names - (list) article names associated with the list of\n",
    "                article ids (this is identified by the doc_full_name column\n",
    "                in df_content)    \n",
    "    '''\n",
    "    \n",
    "    # get user row\n",
    "    user_views = user_item.loc[user_id, :]\n",
    "    # get list of article_ids the user viewed\n",
    "    article_ids = user_views[user_views == 1].index.tolist()\n",
    "    # get name of each article_id\n",
    "    article_names = get_article_names(article_ids)\n",
    "    \n",
    "    return article_ids, article_names"
   ]
  },
  {
   "cell_type": "code",
   "execution_count": 20,
   "metadata": {},
   "outputs": [],
   "source": [
    "def user_user_recs(user_id, m=10):\n",
    "    ''' Loops through the users based on closeness to the input\n",
    "        user_id. For each user - finds articles the user hasn't seen\n",
    "        before and provides them at recs. Does this until m recommendations\n",
    "        are found\n",
    "        \n",
    "        Args:\n",
    "            user_id - (int) a user id\n",
    "            m - (int) number of recommendations you want for the user\n",
    "    \n",
    "        Returns:\n",
    "            recs - (list) recommendations for the user\n",
    "    \n",
    "        Notes:\n",
    "        * Users who are the same closeness are chosen arbitrarily as the 'next'\n",
    "        user\n",
    "        * For the user where the number of recommended articles starts below m\n",
    "        and ends exceeding m, the last items are chosen arbitrarily\n",
    "    \n",
    "    '''\n",
    "    \n",
    "    # create a list of articles read by the user\n",
    "    seen_article_ids, _ = get_user_articles(user_id)\n",
    "    \n",
    "    # get list of similar users by user_id\n",
    "    similar_users = find_similar_users(user_id)\n",
    "    \n",
    "    # create empty list of recos to be filled in\n",
    "    recs = []\n",
    "    \n",
    "    # for each similar user in list\n",
    "    for similar_user_id in similar_users:\n",
    "        \n",
    "        # get list of article_ids\n",
    "        article_ids, _ = get_user_articles(similar_user_id)\n",
    "        \n",
    "        # filter out articles the user has already seen\n",
    "        user_recos = [item for item in article_ids if item not in seen_article_ids]\n",
    "        \n",
    "        # add user_recos to list\n",
    "        for reco in user_recos:\n",
    "            if not reco in recs:\n",
    "                recs.append(reco)\n",
    "        \n",
    "        # if number of recommendations exceeds limit, stop\n",
    "        if len(recs) >= m:\n",
    "            break\n",
    "    \n",
    "    # return first m recommendations    \n",
    "    return recs[:m]"
   ]
  },
  {
   "cell_type": "code",
   "execution_count": 21,
   "metadata": {},
   "outputs": [
    {
     "data": {
      "text/plain": [
       "['this week in data science (april 18, 2017)',\n",
       " 'timeseries data analysis of iot events by using jupyter notebook',\n",
       " 'got zip code data? prep it for analytics. – ibm watson data lab – medium',\n",
       " 'higher-order logistic regression for large datasets',\n",
       " 'using machine learning to predict parking difficulty',\n",
       " 'deep forest: towards an alternative to deep neural networks',\n",
       " 'experience iot with coursera',\n",
       " 'using brunel in ipython/jupyter notebooks',\n",
       " 'graph-based machine learning',\n",
       " 'the 3 kinds of context: machine learning and the art of the frame']"
      ]
     },
     "execution_count": 21,
     "metadata": {},
     "output_type": "execute_result"
    }
   ],
   "source": [
    "# Check Results\n",
    "get_article_names(user_user_recs(1, 10)) # Return 10 recommendations for user 1"
   ]
  },
  {
   "cell_type": "code",
   "execution_count": 22,
   "metadata": {},
   "outputs": [
    {
     "name": "stdout",
     "output_type": "stream",
     "text": [
      "If this is all you see, you passed all of our tests!  Nice job!\n"
     ]
    }
   ],
   "source": [
    "# replace article indexes with ints, as i converted all article_ids to int at the beginning\n",
    "\n",
    "assert set(get_article_names([1024, 1176, 1305, 1314, 1422, 1427])) == set(['using deep learning to reconstruct high-resolution audio', 'build a python app on the streaming analytics service', 'gosales transactions for naive bayes model', 'healthcare python streaming application demo', 'use r dataframes & ibm watson natural language understanding', 'use xgboost, scikit-learn & ibm watson machine learning apis']), \"Oops! Your the get_article_names function doesn't work quite how we expect.\"\n",
    "assert set(get_article_names([1320, 232, 844])) == set(['housing (2015): united states demographic measures','self-service data preparation with ibm data refinery','use the cloudant-spark connector in python notebook']), \"Oops! Your the get_article_names function doesn't work quite how we expect.\"\n",
    "assert set(get_user_articles(20)[0]) == set([1320, 232, 844])\n",
    "assert set(get_user_articles(20)[1]) == set(['housing (2015): united states demographic measures', 'self-service data preparation with ibm data refinery','use the cloudant-spark connector in python notebook'])\n",
    "assert set(get_user_articles(2)[0]) == set([1024, 1176, 1305, 1314, 1422, 1427])\n",
    "assert set(get_user_articles(2)[1]) == set(['using deep learning to reconstruct high-resolution audio', 'build a python app on the streaming analytics service', 'gosales transactions for naive bayes model', 'healthcare python streaming application demo', 'use r dataframes & ibm watson natural language understanding', 'use xgboost, scikit-learn & ibm watson machine learning apis'])\n",
    "print(\"If this is all you see, you passed all of our tests!  Nice job!\")"
   ]
  },
  {
   "cell_type": "markdown",
   "metadata": {},
   "source": [
    "`4.` Now we are going to improve the consistency of **the user_user_recs** function from above.\n",
    "  * Instead of arbitrarily choosing when we obtain users who are all the same closeness to a given user - choose the users that have the most total article interactions before choosing those with fewer article interactions.\n",
    "  * Instead of arbitrarily choosing articles from the user where the number of recommended articles starts below m and ends exceeding m, choose articles with the most total interactions before choosing those with fewer total interactions. This ranking should be what would be obtained from the **top_articles** function you wrote earlier."
   ]
  },
  {
   "cell_type": "code",
   "execution_count": 23,
   "metadata": {},
   "outputs": [],
   "source": [
    "def get_top_sorted_users(user_id, df=df, user_item=user_item):\n",
    "    ''' Uses user-item interaction matrix and interactions df\n",
    "        to generate a neighbor_df dataframe for a particular user.\n",
    "        This is used to measure similarity on more than just dot\n",
    "        product, but also on number of interactions.\n",
    "    \n",
    "        Args:\n",
    "            user_id - (int) user id\n",
    "            df - (pandas dataframe) df as defined at the top of the notebook\n",
    "            user_item - (pandas dataframe) matrix of users by articles: 1's\n",
    "                ehwn a user has interacted with an article, 0 otherwise\n",
    "                \n",
    "        Returns:\n",
    "            neighbors_df - (pandas dataframe) a dataframe with:\n",
    "                neighbor_id - is a neighbor user_id\n",
    "                similarity - measure of the similarity of each user to the provided user_id\n",
    "                num_interactions - the number of articles viewed by the user\n",
    "                \n",
    "        Notes:\n",
    "        * sort the neighborhood_df by similarity and then by number of interactions where\n",
    "        highest of each is higher in the dataframe\n",
    "    \n",
    "    '''\n",
    "    \n",
    "    # compute similarity of each user to the provided user\n",
    "    user_similarity = user_item.dot(user_item.loc[user_id, :])\n",
    "    \n",
    "    # convert result into dataframe\n",
    "    user_similarity = user_similarity.reset_index()\n",
    "    \n",
    "    # change value column name to 'similarity' \n",
    "    user_similarity = user_similarity.rename({0: 'similarity'}, axis=1)\n",
    "    \n",
    "    # get number of interactions by user\n",
    "    user_interactions = df.groupby(['user_id'])['article_id']\\\n",
    "                            .count()\\\n",
    "                            .reset_index()\\\n",
    "                            .rename({'article_id': 'num_interactions'}, axis=1)\n",
    "    \n",
    "    # join the two datasets to get both similarity and num_interactions in\n",
    "    # the same dataframe\n",
    "    neighbors_df = user_similarity.merge(user_interactions, how='left', on='user_id')\n",
    "    \n",
    "    # rename user_id column to 'neighbor_id'\n",
    "    neighbors_df = neighbors_df.rename({'user_id': 'neighbor_id'}, axis=1)\n",
    "    \n",
    "    # sort dataframe\n",
    "    neighbors_df = neighbors_df.sort_values(['similarity', 'num_interactions'], ascending=[False, False])\n",
    "    \n",
    "    # remove rows where neighbor_id == user_id\n",
    "    neighbors_df = neighbors_df[neighbors_df['neighbor_id'] != user_id]\n",
    "    \n",
    "    # return the dataframe specified in the doc_string\n",
    "    return neighbors_df"
   ]
  },
  {
   "cell_type": "code",
   "execution_count": 24,
   "metadata": {},
   "outputs": [
    {
     "data": {
      "text/html": [
       "<div>\n",
       "<style scoped>\n",
       "    .dataframe tbody tr th:only-of-type {\n",
       "        vertical-align: middle;\n",
       "    }\n",
       "\n",
       "    .dataframe tbody tr th {\n",
       "        vertical-align: top;\n",
       "    }\n",
       "\n",
       "    .dataframe thead th {\n",
       "        text-align: right;\n",
       "    }\n",
       "</style>\n",
       "<table border=\"1\" class=\"dataframe\">\n",
       "  <thead>\n",
       "    <tr style=\"text-align: right;\">\n",
       "      <th></th>\n",
       "      <th>neighbor_id</th>\n",
       "      <th>similarity</th>\n",
       "      <th>num_interactions</th>\n",
       "    </tr>\n",
       "  </thead>\n",
       "  <tbody>\n",
       "    <tr>\n",
       "      <th>3932</th>\n",
       "      <td>3933</td>\n",
       "      <td>35</td>\n",
       "      <td>45</td>\n",
       "    </tr>\n",
       "    <tr>\n",
       "      <th>22</th>\n",
       "      <td>23</td>\n",
       "      <td>17</td>\n",
       "      <td>364</td>\n",
       "    </tr>\n",
       "    <tr>\n",
       "      <th>3781</th>\n",
       "      <td>3782</td>\n",
       "      <td>17</td>\n",
       "      <td>363</td>\n",
       "    </tr>\n",
       "    <tr>\n",
       "      <th>202</th>\n",
       "      <td>203</td>\n",
       "      <td>15</td>\n",
       "      <td>160</td>\n",
       "    </tr>\n",
       "    <tr>\n",
       "      <th>4458</th>\n",
       "      <td>4459</td>\n",
       "      <td>15</td>\n",
       "      <td>158</td>\n",
       "    </tr>\n",
       "  </tbody>\n",
       "</table>\n",
       "</div>"
      ],
      "text/plain": [
       "      neighbor_id  similarity  num_interactions\n",
       "3932         3933          35                45\n",
       "22             23          17               364\n",
       "3781         3782          17               363\n",
       "202           203          15               160\n",
       "4458         4459          15               158"
      ]
     },
     "execution_count": 24,
     "metadata": {},
     "output_type": "execute_result"
    }
   ],
   "source": [
    "# show similar users to user_id=1\n",
    "get_top_sorted_users(1).head()"
   ]
  },
  {
   "cell_type": "code",
   "execution_count": 25,
   "metadata": {},
   "outputs": [],
   "source": [
    "def user_user_recs_p2(user_id, m=10):\n",
    "    ''' Loops through the users based on closeness to the input user_id\n",
    "        For each user - finds articles the user hasn't seen before and\n",
    "        provides them as recs. Does this until m recommendations are found.\n",
    "\n",
    "        Args:\n",
    "            user_id - (int) a user id\n",
    "            m - (int) the number of recommendations you want for the user\n",
    "    \n",
    "        Returns:\n",
    "            recs - (list) a list of recommendations for the user by article id\n",
    "            rec_names - (list) a list of recommendations for the user by article title\n",
    "    \n",
    "        Notes:\n",
    "        * choose the users that have the most total article interactions \n",
    "        before choosing those with fewer article interactions.\n",
    "        * choose articles with the most total interactions before choosing\n",
    "        those with fewer total interactions. \n",
    "   \n",
    "    '''\n",
    "    \n",
    "    # create a list of articles read by the user\n",
    "    seen_article_ids, _ = get_user_articles(user_id)\n",
    "    \n",
    "    # count views per article for each article and store in a sorted series\n",
    "    article_views = df.groupby(['article_id'], as_index=False)['user_id'].count()\n",
    "    # rename values column to 'view_count'\n",
    "    article_views = article_views.rename({'user_id': 'view_count'}, axis=1)\n",
    "    # sort values from highest to lowest view_count\n",
    "    article_views = article_views.sort_values(by='view_count', ascending=False)\n",
    "    \n",
    "    # generate neighbors dataframe\n",
    "    neighbors_df = get_top_sorted_users(user_id)\n",
    "    \n",
    "    # create empty list of recos and reco names to be filled in\n",
    "    recs = []\n",
    "    rec_names = []\n",
    "    \n",
    "    # for each similar user in list\n",
    "    for neighbor_id in neighbors_df['neighbor_id'].tolist():\n",
    "        # get list of article_ids\n",
    "        article_ids, _ = get_user_articles(neighbor_id)\n",
    "        \n",
    "        # filter out articles the user has already seen\n",
    "        user_reco_ids = [item for item in article_ids if item not in seen_article_ids]\n",
    "        \n",
    "        # get articles recommended to user\n",
    "        recommended_articles = article_views[article_views['article_id'].isin(user_reco_ids)]\n",
    "        # get list of article ids\n",
    "        user_recos = recommended_articles['article_id'].tolist()\n",
    "        # get list of article names\n",
    "        user_reco_names = get_article_names(user_recos)\n",
    "        \n",
    "        # add user_recos and reco_names to list\n",
    "        for art_id, art_name in zip(user_recos, user_reco_names):\n",
    "            if not art_id in recs:\n",
    "                recs.append(art_id)\n",
    "                rec_names.append(art_name)\n",
    "        \n",
    "        # if number of recommendations exceeds limit, stop\n",
    "        if len(recs) >= m:\n",
    "            break\n",
    "    \n",
    "    return recs[:m], rec_names[:m]"
   ]
  },
  {
   "cell_type": "code",
   "execution_count": 26,
   "metadata": {},
   "outputs": [
    {
     "name": "stdout",
     "output_type": "stream",
     "text": [
      "The top 10 recommendations for user 20 are the following article ids:\n",
      "[1330, 1427, 1364, 1170, 1162, 1304, 1351, 1160, 1354, 1368]\n",
      "\n",
      "The top 10 recommendations for user 20 are the following article names:\n",
      "- insights from new york car accident reports\n",
      "- use xgboost, scikit-learn & ibm watson machine learning apis\n",
      "- predicting churn with the spss random tree algorithm\n",
      "- apache spark lab, part 1: basic concepts\n",
      "- analyze energy consumption in buildings\n",
      "- gosales transactions for logistic regression model\n",
      "- model bike sharing data with spss\n",
      "- analyze accident reports on amazon emr spark\n",
      "- movie recommender system with spark machine learning\n",
      "- putting a human face on machine learning\n"
     ]
    }
   ],
   "source": [
    "# quick spot check\n",
    "rec_ids, rec_names = user_user_recs_p2(20, 10)\n",
    "print(\"The top 10 recommendations for user 20 are the following article ids:\")\n",
    "print(rec_ids)\n",
    "print()\n",
    "print(\"The top 10 recommendations for user 20 are the following article names:\")\n",
    "for rec_name in rec_names:\n",
    "    print('-',rec_name)"
   ]
  },
  {
   "cell_type": "markdown",
   "metadata": {},
   "source": [
    "`5.` Use your functions from above to correctly fill in the solutions to the dictionary below.  Then test your dictionary against the solution.  Provide the code you need to answer each following the comments below."
   ]
  },
  {
   "cell_type": "code",
   "execution_count": 27,
   "metadata": {},
   "outputs": [
    {
     "name": "stdout",
     "output_type": "stream",
     "text": [
      "This all looks good!  Nice job!\n"
     ]
    }
   ],
   "source": [
    "### Tests with a dictionary of results\n",
    "\n",
    "user1_most_sim = find_similar_users(1)[0] # Find the user that is most similar to user 1 \n",
    "user131_10th_sim = find_similar_users(131)[10] # Find the 10th most similar user to user 131\n",
    "\n",
    "## Dictionary Test Here\n",
    "sol_5_dict = {\n",
    "    'The user that is most similar to user 1.': user1_most_sim, \n",
    "    'The user that is the 10th most similar to user 131': user131_10th_sim\n",
    "}\n",
    "\n",
    "t.sol_5_test(sol_5_dict)"
   ]
  },
  {
   "cell_type": "markdown",
   "metadata": {},
   "source": [
    "`6.` If we were given a new user, which of the above functions would you be able to use to make recommendations? Explain. Can you think of a better way we might make recommendations? Use the cell below to explain a better method for new users."
   ]
  },
  {
   "cell_type": "markdown",
   "metadata": {},
   "source": [
    "I would use `get_top_articles` function to recommend most viewed article.  \n",
    "We have no information on the new user, so we can only provide knowledge based recommendations.  \n",
    "In this case, we can only use rank-based recommendations since the only knowledge is the number of views by article.  \n",
    "Ways to improve recommendations for new users:\n",
    "* We can use demographic similarity to existing users an recommend articles based on similar user preferences, if provided with some demographic information about the user.\n",
    "* We can improve ranking of articles based on other measures (if available), such as 'time spent on platform', 'average customer value', etc. to recommend articles that also benefit the provider."
   ]
  },
  {
   "cell_type": "markdown",
   "metadata": {},
   "source": [
    "`7.` Using your existing functions, provide the top 10 recommended articles you would provide for a new user below."
   ]
  },
  {
   "cell_type": "code",
   "execution_count": 28,
   "metadata": {},
   "outputs": [
    {
     "data": {
      "text/plain": [
       "['use deep learning for image classification',\n",
       " 'insights from new york car accident reports',\n",
       " 'visualize car data with brunel',\n",
       " 'use xgboost, scikit-learn & ibm watson machine learning apis',\n",
       " 'predicting churn with the spss random tree algorithm',\n",
       " 'healthcare python streaming application demo',\n",
       " 'finding optimal locations of new store using decision optimization',\n",
       " 'apache spark lab, part 1: basic concepts',\n",
       " 'analyze energy consumption in buildings',\n",
       " 'gosales transactions for logistic regression model']"
      ]
     },
     "execution_count": 28,
     "metadata": {},
     "output_type": "execute_result"
    }
   ],
   "source": [
    "new_user_recos = get_top_articles(10)\n",
    "new_user_recos"
   ]
  },
  {
   "cell_type": "code",
   "execution_count": 29,
   "metadata": {},
   "outputs": [
    {
     "name": "stdout",
     "output_type": "stream",
     "text": [
      "That's right!  Nice job!\n"
     ]
    }
   ],
   "source": [
    "new_user = 0\n",
    "\n",
    "# What would your recommendations be for this new user '0.0'?  As a new user, they have no observed articles.\n",
    "# Provide a list of the top 10 article ids you would give to \n",
    "new_user_recs = get_top_article_ids(10) # Your recommendations here\n",
    "\n",
    "assert set(new_user_recs) == set([1314, 1429, 1293, 1427, 1162, 1364, 1304, 1170, 1431, 1330]), \"Oops!  It makes sense that in this case we would want to recommend the most popular articles, because we don't know anything about these users.\"\n",
    "\n",
    "print(\"That's right!  Nice job!\")"
   ]
  },
  {
   "cell_type": "markdown",
   "metadata": {},
   "source": [
    "### <a class=\"anchor\" id=\"Content-Recs\">Part IV: Content Based Recommendations (OPTIONAL)</a>\n",
    "\n",
    "Another method we might use to make recommendations is to perform a ranking of the highest ranked articles associated with some term.  You might consider content to be the **doc_body**, **doc_description**, or **doc_full_name**.  There isn't one way to create a content based recommendation, especially considering that each of these columns hold content related information.  \n",
    "\n",
    "`1.` Use the function body below to create a content based recommender.  Since there isn't one right answer for this recommendation tactic, no test functions are provided.  Feel free to change the function inputs if you decide you want to try a method that requires more input values.  The input values are currently set with one idea in mind that you may use to make content based recommendations.  One additional idea is that you might want to choose the most popular recommendations that meet your 'content criteria', but again, there is a lot of flexibility in how you might make these recommendations."
   ]
  },
  {
   "cell_type": "code",
   "execution_count": null,
   "metadata": {},
   "outputs": [],
   "source": []
  },
  {
   "cell_type": "code",
   "execution_count": null,
   "metadata": {},
   "outputs": [],
   "source": []
  },
  {
   "cell_type": "markdown",
   "metadata": {},
   "source": [
    "### <a class=\"anchor\" id=\"Matrix-Fact\">Part V: Matrix Factorization</a>\n",
    "\n",
    "In this part of the notebook, you will build use matrix factorization to make article recommendations to the users on the IBM Watson Studio platform.\n",
    "\n",
    "`1.` You should have already created a **user_item** matrix above in **question 1** of **Part III** above.  This first question here will just require that you run the cells to get things set up for the rest of **Part V** of the notebook. "
   ]
  },
  {
   "cell_type": "code",
   "execution_count": 30,
   "metadata": {},
   "outputs": [
    {
     "data": {
      "text/html": [
       "<div>\n",
       "<style scoped>\n",
       "    .dataframe tbody tr th:only-of-type {\n",
       "        vertical-align: middle;\n",
       "    }\n",
       "\n",
       "    .dataframe tbody tr th {\n",
       "        vertical-align: top;\n",
       "    }\n",
       "\n",
       "    .dataframe thead th {\n",
       "        text-align: right;\n",
       "    }\n",
       "</style>\n",
       "<table border=\"1\" class=\"dataframe\">\n",
       "  <thead>\n",
       "    <tr style=\"text-align: right;\">\n",
       "      <th>article_id</th>\n",
       "      <th>0</th>\n",
       "      <th>2</th>\n",
       "      <th>4</th>\n",
       "      <th>8</th>\n",
       "      <th>9</th>\n",
       "      <th>12</th>\n",
       "      <th>14</th>\n",
       "      <th>15</th>\n",
       "      <th>16</th>\n",
       "      <th>18</th>\n",
       "      <th>...</th>\n",
       "      <th>1434</th>\n",
       "      <th>1435</th>\n",
       "      <th>1436</th>\n",
       "      <th>1437</th>\n",
       "      <th>1439</th>\n",
       "      <th>1440</th>\n",
       "      <th>1441</th>\n",
       "      <th>1442</th>\n",
       "      <th>1443</th>\n",
       "      <th>1444</th>\n",
       "    </tr>\n",
       "    <tr>\n",
       "      <th>user_id</th>\n",
       "      <th></th>\n",
       "      <th></th>\n",
       "      <th></th>\n",
       "      <th></th>\n",
       "      <th></th>\n",
       "      <th></th>\n",
       "      <th></th>\n",
       "      <th></th>\n",
       "      <th></th>\n",
       "      <th></th>\n",
       "      <th></th>\n",
       "      <th></th>\n",
       "      <th></th>\n",
       "      <th></th>\n",
       "      <th></th>\n",
       "      <th></th>\n",
       "      <th></th>\n",
       "      <th></th>\n",
       "      <th></th>\n",
       "      <th></th>\n",
       "      <th></th>\n",
       "    </tr>\n",
       "  </thead>\n",
       "  <tbody>\n",
       "    <tr>\n",
       "      <th>1</th>\n",
       "      <td>0.0</td>\n",
       "      <td>0.0</td>\n",
       "      <td>0.0</td>\n",
       "      <td>0.0</td>\n",
       "      <td>0.0</td>\n",
       "      <td>0.0</td>\n",
       "      <td>0.0</td>\n",
       "      <td>0.0</td>\n",
       "      <td>0.0</td>\n",
       "      <td>0.0</td>\n",
       "      <td>...</td>\n",
       "      <td>0.0</td>\n",
       "      <td>0.0</td>\n",
       "      <td>1.0</td>\n",
       "      <td>0.0</td>\n",
       "      <td>1.0</td>\n",
       "      <td>0.0</td>\n",
       "      <td>0.0</td>\n",
       "      <td>0.0</td>\n",
       "      <td>0.0</td>\n",
       "      <td>0.0</td>\n",
       "    </tr>\n",
       "    <tr>\n",
       "      <th>2</th>\n",
       "      <td>0.0</td>\n",
       "      <td>0.0</td>\n",
       "      <td>0.0</td>\n",
       "      <td>0.0</td>\n",
       "      <td>0.0</td>\n",
       "      <td>0.0</td>\n",
       "      <td>0.0</td>\n",
       "      <td>0.0</td>\n",
       "      <td>0.0</td>\n",
       "      <td>0.0</td>\n",
       "      <td>...</td>\n",
       "      <td>0.0</td>\n",
       "      <td>0.0</td>\n",
       "      <td>0.0</td>\n",
       "      <td>0.0</td>\n",
       "      <td>0.0</td>\n",
       "      <td>0.0</td>\n",
       "      <td>0.0</td>\n",
       "      <td>0.0</td>\n",
       "      <td>0.0</td>\n",
       "      <td>0.0</td>\n",
       "    </tr>\n",
       "    <tr>\n",
       "      <th>3</th>\n",
       "      <td>0.0</td>\n",
       "      <td>0.0</td>\n",
       "      <td>0.0</td>\n",
       "      <td>0.0</td>\n",
       "      <td>0.0</td>\n",
       "      <td>1.0</td>\n",
       "      <td>0.0</td>\n",
       "      <td>0.0</td>\n",
       "      <td>0.0</td>\n",
       "      <td>0.0</td>\n",
       "      <td>...</td>\n",
       "      <td>0.0</td>\n",
       "      <td>0.0</td>\n",
       "      <td>1.0</td>\n",
       "      <td>0.0</td>\n",
       "      <td>0.0</td>\n",
       "      <td>0.0</td>\n",
       "      <td>0.0</td>\n",
       "      <td>0.0</td>\n",
       "      <td>0.0</td>\n",
       "      <td>0.0</td>\n",
       "    </tr>\n",
       "    <tr>\n",
       "      <th>4</th>\n",
       "      <td>0.0</td>\n",
       "      <td>0.0</td>\n",
       "      <td>0.0</td>\n",
       "      <td>0.0</td>\n",
       "      <td>0.0</td>\n",
       "      <td>0.0</td>\n",
       "      <td>0.0</td>\n",
       "      <td>0.0</td>\n",
       "      <td>0.0</td>\n",
       "      <td>0.0</td>\n",
       "      <td>...</td>\n",
       "      <td>0.0</td>\n",
       "      <td>0.0</td>\n",
       "      <td>0.0</td>\n",
       "      <td>0.0</td>\n",
       "      <td>0.0</td>\n",
       "      <td>0.0</td>\n",
       "      <td>0.0</td>\n",
       "      <td>0.0</td>\n",
       "      <td>0.0</td>\n",
       "      <td>0.0</td>\n",
       "    </tr>\n",
       "    <tr>\n",
       "      <th>5</th>\n",
       "      <td>0.0</td>\n",
       "      <td>0.0</td>\n",
       "      <td>0.0</td>\n",
       "      <td>0.0</td>\n",
       "      <td>0.0</td>\n",
       "      <td>0.0</td>\n",
       "      <td>0.0</td>\n",
       "      <td>0.0</td>\n",
       "      <td>0.0</td>\n",
       "      <td>0.0</td>\n",
       "      <td>...</td>\n",
       "      <td>0.0</td>\n",
       "      <td>0.0</td>\n",
       "      <td>0.0</td>\n",
       "      <td>0.0</td>\n",
       "      <td>0.0</td>\n",
       "      <td>0.0</td>\n",
       "      <td>0.0</td>\n",
       "      <td>0.0</td>\n",
       "      <td>0.0</td>\n",
       "      <td>0.0</td>\n",
       "    </tr>\n",
       "  </tbody>\n",
       "</table>\n",
       "<p>5 rows × 714 columns</p>\n",
       "</div>"
      ],
      "text/plain": [
       "article_id  0     2     4     8     9     12    14    15    16    18    ...  \\\n",
       "user_id                                                                 ...   \n",
       "1            0.0   0.0   0.0   0.0   0.0   0.0   0.0   0.0   0.0   0.0  ...   \n",
       "2            0.0   0.0   0.0   0.0   0.0   0.0   0.0   0.0   0.0   0.0  ...   \n",
       "3            0.0   0.0   0.0   0.0   0.0   1.0   0.0   0.0   0.0   0.0  ...   \n",
       "4            0.0   0.0   0.0   0.0   0.0   0.0   0.0   0.0   0.0   0.0  ...   \n",
       "5            0.0   0.0   0.0   0.0   0.0   0.0   0.0   0.0   0.0   0.0  ...   \n",
       "\n",
       "article_id  1434  1435  1436  1437  1439  1440  1441  1442  1443  1444  \n",
       "user_id                                                                 \n",
       "1            0.0   0.0   1.0   0.0   1.0   0.0   0.0   0.0   0.0   0.0  \n",
       "2            0.0   0.0   0.0   0.0   0.0   0.0   0.0   0.0   0.0   0.0  \n",
       "3            0.0   0.0   1.0   0.0   0.0   0.0   0.0   0.0   0.0   0.0  \n",
       "4            0.0   0.0   0.0   0.0   0.0   0.0   0.0   0.0   0.0   0.0  \n",
       "5            0.0   0.0   0.0   0.0   0.0   0.0   0.0   0.0   0.0   0.0  \n",
       "\n",
       "[5 rows x 714 columns]"
      ]
     },
     "execution_count": 30,
     "metadata": {},
     "output_type": "execute_result"
    }
   ],
   "source": [
    "# convert values in user_item to float (from int)\n",
    "user_item_matrix = user_item.astype('float')\n",
    "\n",
    "# quick look at the matrix\n",
    "user_item_matrix.head()"
   ]
  },
  {
   "cell_type": "markdown",
   "metadata": {},
   "source": [
    "`2.` In this situation, you can use Singular Value Decomposition from [numpy](https://docs.scipy.org/doc/numpy-1.14.0/reference/generated/numpy.linalg.svd.html) on the user-item matrix.  Use the cell to perform SVD, and explain why this is different than in the lesson."
   ]
  },
  {
   "cell_type": "code",
   "execution_count": 31,
   "metadata": {},
   "outputs": [
    {
     "data": {
      "text/plain": [
       "((714,), (5149, 5149), (714, 714))"
      ]
     },
     "execution_count": 31,
     "metadata": {},
     "output_type": "execute_result"
    }
   ],
   "source": [
    "u, s, vt = np.linalg.svd(user_item_matrix)\n",
    "s.shape, u.shape, vt.shape"
   ]
  },
  {
   "cell_type": "markdown",
   "metadata": {},
   "source": [
    "**Answer Here:**  \n",
    "In this case, value decomposition is possible because each user has a valid default state in the user-item matrix - not interacted with the article (translated to a '0' entry).  \n",
    "In our previous examples (like the movie recommendation example) we could not set missing values to a default state (such as a rating of 4/10 by default).  This is why we needed FunkSVD - to get around the missing values and still recommend movies to users.  \n",
    "In our case here, we can directly use SVD as any missing values have been set to 0 without introducing bias into the model."
   ]
  },
  {
   "cell_type": "markdown",
   "metadata": {},
   "source": [
    "`3.` Now for the tricky part, how do we choose the number of latent features to use? Running the below cell, you can see that as the number of latent features increases, we obtain a lower error rate on making predictions for the 1 and 0 values in the user-item matrix. Run the cell below to get an idea of how the accuracy improves as we increase the number of latent features."
   ]
  },
  {
   "cell_type": "code",
   "execution_count": 32,
   "metadata": {},
   "outputs": [
    {
     "data": {
      "image/png": "[encoded data removed]",
      "text/plain": [
       "<Figure size 432x288 with 1 Axes>"
      ]
     },
     "metadata": {
      "needs_background": "light"
     },
     "output_type": "display_data"
    }
   ],
   "source": [
    "num_latent_feats = np.arange(10,700+10,20)\n",
    "sum_errs = []\n",
    "\n",
    "for k in num_latent_feats:\n",
    "    # restructure with k latent features\n",
    "    s_new, u_new, vt_new = np.diag(s[:k]), u[:, :k], vt[:k, :]\n",
    "    \n",
    "    # take dot product\n",
    "    user_item_est = np.around(np.dot(np.dot(u_new, s_new), vt_new))\n",
    "    \n",
    "    # compute error for each prediction to actual value\n",
    "    diffs = np.subtract(user_item_matrix, user_item_est)\n",
    "    \n",
    "    # total errors and keep track of them\n",
    "    err = np.sum(np.sum(np.abs(diffs)))\n",
    "    sum_errs.append(err)\n",
    "    \n",
    "    \n",
    "plt.plot(num_latent_feats, 1 - np.array(sum_errs)/df.shape[0]);\n",
    "plt.xlabel('Number of Latent Features');\n",
    "plt.ylabel('Accuracy');\n",
    "plt.title('Accuracy vs. Number of Latent Features');"
   ]
  },
  {
   "cell_type": "markdown",
   "metadata": {},
   "source": [
    "`4.`  From the above, we can't really be sure how many features to use, because simply having a better way to predict the 1's and 0's of the matrix doesn't exactly give us an indication of if we are able to make good recommendations.  Instead, we might split our dataset into a training and test set of data, as shown in the cell below.  \n",
    "\n",
    "Use the code from question 3 to understand the impact on accuracy of the training and test sets of data with different numbers of latent features.  \n",
    "Using the split below: \n",
    "\n",
    "* How many users can we make predictions for in the test set?  \n",
    "    **Answer:** 20 (no. of unique users from test set also in train set)\n",
    "    \n",
    "* How many users are we not able to make predictions for because of the cold start problem?  \n",
    "    **Answer:** 662 (users from test set not in train set - no information on them)\n",
    "\n",
    "* How many articles can we make predictions for in the test set?  \n",
    "    **Answer:** 574 (no. of unique articles in the test set also in train set)\n",
    "    \n",
    "* How many articles are we not able to make predictions for because of the cold start problem?  \n",
    "    **Answer:** 0 (no. of articles from test set not in train set)"
   ]
  },
  {
   "cell_type": "code",
   "execution_count": 33,
   "metadata": {},
   "outputs": [],
   "source": [
    "def create_test_and_train_user_item(df_train, df_test):\n",
    "    ''' Create user-item matrix for both train and test dataframes.\n",
    "        Returns test indexes and articles along user-item matrices\n",
    "        for train and test data.\n",
    "    \n",
    "        Args:\n",
    "            df_train - (pandas dataframe) training dataframe\n",
    "            df_test - (pandas dataframe) test dataframe\n",
    "\n",
    "        Returns:\n",
    "            user_item_train - a user-item matrix of the training dataframe \n",
    "                (unique users for each row and unique articles for each column)\n",
    "            user_item_test - a user-item matrix of the testing dataframe \n",
    "                (unique users for each row and unique articles for each column)\n",
    "            test_idx - all of the test user ids\n",
    "            test_arts - all of the test article ids\n",
    "    '''\n",
    "    \n",
    "    # create user_item matrix from train data\n",
    "    user_item_train = create_user_item_matrix(df_train)\n",
    "    # convert values in user_item to float (from int)\n",
    "    user_item_train = user_item_train.astype('float')\n",
    "    # get list of article ids in train dataframe\n",
    "    train_arts = user_item_train.iloc[0,:].index.tolist()\n",
    "    \n",
    "    # create user_item matrix from train data\n",
    "    user_item_test = create_user_item_matrix(df_test)\n",
    "    # convert values in user_item to float (from int)\n",
    "    user_item_test = user_item_test.astype('float')\n",
    "    # get test user ids\n",
    "    test_idx = user_item_test.index.tolist()\n",
    "    # get test article ids\n",
    "    test_arts = user_item_test.iloc[0,:].index.tolist()\n",
    "    \n",
    "    # get articles that were not part of test dataset\n",
    "    articles_not_in_test = [article for article in train_arts if article not in test_arts]\n",
    "    # append them to the original test dataframe columns\n",
    "    all_test_cols = articles_not_in_test + test_arts\n",
    "    \n",
    "    # add columns to test dataframe, fill value is 0.0 (article not viewed)\n",
    "    user_item_test = user_item_test.reindex(columns=sorted(all_test_cols), fill_value=0.0)\n",
    "    \n",
    "    return user_item_train, user_item_test, test_idx, test_arts"
   ]
  },
  {
   "cell_type": "code",
   "execution_count": 34,
   "metadata": {},
   "outputs": [],
   "source": [
    "df_train = df.head(40000)\n",
    "df_test = df.tail(5993)\n",
    "\n",
    "user_item_train, user_item_test, test_idx, test_arts = create_test_and_train_user_item(df_train, df_test)"
   ]
  },
  {
   "cell_type": "code",
   "execution_count": 35,
   "metadata": {},
   "outputs": [],
   "source": [
    "# compute svd on the user_item_matrix\n",
    "u_train, s_train, vt_train = np.linalg.svd(user_item_train)"
   ]
  },
  {
   "cell_type": "code",
   "execution_count": 36,
   "metadata": {},
   "outputs": [
    {
     "name": "stdout",
     "output_type": "stream",
     "text": [
      " > Q4.1 Answer: 20\n",
      " > Q4.2 Answer: 662\n",
      " > Q4.3 Answer: 574\n",
      " > Q4.4 Answer: 0\n"
     ]
    }
   ],
   "source": [
    "train_users = df_train['user_id'].unique()\n",
    "train_articles = df_train['article_id'].unique()\n",
    "\n",
    "new_users = [user for user in test_idx if user not in train_users]\n",
    "\n",
    "q1_response = len(set(test_idx).intersection(set(train_users)))\n",
    "q2_response = len(new_users)\n",
    "\n",
    "new_articles = [article for article in test_arts if article not in train_articles]\n",
    "\n",
    "q3_response = len(set(test_arts).intersection(set(train_articles)))\n",
    "q4_response = len(new_articles)\n",
    "\n",
    "print(' > Q4.1 Answer: {}'.format(q1_response))\n",
    "print(' > Q4.2 Answer: {}'.format(q2_response))\n",
    "print(' > Q4.3 Answer: {}'.format(q3_response))\n",
    "print(' > Q4.4 Answer: {}'.format(q4_response))"
   ]
  },
  {
   "cell_type": "code",
   "execution_count": 37,
   "metadata": {},
   "outputs": [
    {
     "name": "stdout",
     "output_type": "stream",
     "text": [
      "Awesome job!  That's right!  All of the test movies are in the training data, but there are only 20 test users that were also in the training set.  All of the other users that are in the test set we have no data on.  Therefore, we cannot make predictions for these users using SVD.\n"
     ]
    }
   ],
   "source": [
    "# Replace the values in the dictionary below\n",
    "a = 662 \n",
    "b = 574 \n",
    "c = 20 \n",
    "d = 0 \n",
    "\n",
    "\n",
    "sol_4_dict = {\n",
    "    'How many users can we make predictions for in the test set?': c,\n",
    "    'How many users in the test set are we not able to make predictions for because of the cold start problem?': a, \n",
    "    'How many movies can we make predictions for in the test set?': b,\n",
    "    'How many movies in the test set are we not able to make predictions for because of the cold start problem?': d\n",
    "}\n",
    "\n",
    "t.sol_4_test(sol_4_dict)"
   ]
  },
  {
   "cell_type": "markdown",
   "metadata": {},
   "source": [
    "`5.` Now use the **user_item_train** dataset from above to find U, S, and V transpose using SVD. Then find the subset of rows in the **user_item_test** dataset that you can predict using this matrix decomposition with different numbers of latent features to see how many features makes sense to keep based on the accuracy on the test data. This will require combining what was done in questions `2` - `4`.\n",
    "\n",
    "Use the cells below to explore how well SVD works towards making predictions for recommendations on the test data.  "
   ]
  },
  {
   "cell_type": "code",
   "execution_count": 38,
   "metadata": {},
   "outputs": [
    {
     "data": {
      "text/plain": [
       "((4487, 4487), (714,), (714, 714))"
      ]
     },
     "execution_count": 38,
     "metadata": {},
     "output_type": "execute_result"
    }
   ],
   "source": [
    "# fit SVD on the user_item_train matrix\n",
    "u_train, s_train, vt_train = np.linalg.svd(user_item_train) # fit svd similar to above then use the cells below\n",
    "u_train.shape, s_train.shape, vt_train.shape"
   ]
  },
  {
   "cell_type": "code",
   "execution_count": 39,
   "metadata": {},
   "outputs": [
    {
     "data": {
      "image/png": "[encoded data removed]",
      "text/plain": [
       "<Figure size 432x288 with 1 Axes>"
      ]
     },
     "metadata": {
      "needs_background": "light"
     },
     "output_type": "display_data"
    }
   ],
   "source": [
    "num_latent_feats = np.arange(10, s_train.shape[0], 20)\n",
    "sum_errs = []\n",
    "\n",
    "for k in num_latent_feats:\n",
    "    # restructure with k latent features\n",
    "    s_new, u_new, vt_new = np.diag(s_train[:k]), u_train[:, :k], vt_train[:k, :]\n",
    "    \n",
    "    # take dot product\n",
    "    user_item_est = np.around(np.dot(np.dot(u_new, s_new), vt_new))\n",
    "    \n",
    "    # compute error for each prediction to actual value\n",
    "    diffs = np.subtract(user_item_train, user_item_est)\n",
    "    \n",
    "    # total errors and keep track of them\n",
    "    err = np.sum(np.sum(np.abs(diffs)))\n",
    "    sum_errs.append(err)\n",
    "    \n",
    "    \n",
    "plt.plot(num_latent_feats, 1 - np.array(sum_errs)/df.shape[0]);\n",
    "plt.xlabel('Number of Latent Features');\n",
    "plt.ylabel('Accuracy');\n",
    "plt.title('Accuracy vs. Number of Latent Features');"
   ]
  },
  {
   "cell_type": "code",
   "execution_count": 40,
   "metadata": {},
   "outputs": [
    {
     "data": {
      "image/png": "[encoded data removed]",
      "text/plain": [
       "<Figure size 432x288 with 1 Axes>"
      ]
     },
     "metadata": {
      "needs_background": "light"
     },
     "output_type": "display_data"
    }
   ],
   "source": [
    "# get list of existing users\n",
    "existing_users = list(set(test_idx).intersection(set(train_users)))\n",
    "\n",
    "# get user location in user_item_train\n",
    "user_item_existing_test_idx = user_item_train.index.get_indexer(existing_users)\n",
    "\n",
    "# get simplified list of users to predict on\n",
    "u_test = u_train[user_item_existing_test_idx, :]\n",
    "\n",
    "num_latent_feats = np.arange(10, s_train.shape[0], 20)\n",
    "sum_errs = []\n",
    "\n",
    "for k in num_latent_feats:\n",
    "    # restructure with k latent features\n",
    "    s_new, u_new, vt_new = np.diag(s_train[:k]), u_test[:, :k], vt_train[:k, :]\n",
    "    \n",
    "    # take dot product\n",
    "    user_item_est = np.around(np.dot(np.dot(u_new, s_new), vt_new))\n",
    "    \n",
    "    # compute error for each prediction to actual value\n",
    "    diffs = np.subtract(user_item_test.loc[existing_users, :], user_item_est)\n",
    "    \n",
    "    # total errors and keep track of them\n",
    "    err = np.sum(np.sum(np.abs(diffs)))\n",
    "    sum_errs.append(err)\n",
    "    \n",
    "    \n",
    "plt.plot(num_latent_feats, 1 - np.array(sum_errs)/df_test.shape[0]);\n",
    "plt.xlabel('Number of Latent Features');\n",
    "plt.ylabel('Accuracy');\n",
    "plt.title('Accuracy vs. Number of Latent Features\\nin Test Set');"
   ]
  },
  {
   "cell_type": "markdown",
   "metadata": {},
   "source": [
    "`6.` Use the cell below to comment on the results you found in the previous question. Given the circumstances of your results, discuss what you might do to determine if the recommendations you make with any of the above recommendation systems are an improvement to how users currently find articles? "
   ]
  },
  {
   "cell_type": "markdown",
   "metadata": {},
   "source": [
    "**Answer:**  \n",
    "The graph above shows how accuracy decreases as we increase the number of latent features, plateauing at below 99.15% (versus 99.45% previously).  \n",
    "\n",
    "I believe the first issue is on the metric: accuracy is not the best metric in this case, as we're less interested in how many interaction we predict not happening, and more interested in how many of our recommendations are indeed interesting to the users (i.e. they read the article). **Precision**, **Recall** or, better yet, **F1 Score** would be the best metric, as it would help optimize the number of recommendations taken by the users.\n",
    "\n",
    "In this case, we only have 20 users to test the validity of this model on, making it hard to draw robust conclusions about the performance of the model. We would need to test it using A/B testing framework and see if users prefer the SVD model recommendations better than what we currently have. This would be the rought setting of an A/B test:\n",
    "- **metric used:** % of users that read 80%+ of recommended article  \n",
    "  this measure would ensure that users who clicked on the recommended article indeed engaged with it and read it\n",
    "- **experiment duration:** enough to gather data for at least 100 users and their interactions"
   ]
  },
  {
   "cell_type": "markdown",
   "metadata": {},
   "source": [
    "### <a class=\"anchor\" id=\"Conclusions\">Part VI: Extras and Conclusions</a>\n",
    "\n",
    "Using your workbook, you could now save your recommendations for each user, develop a class to make new predictions and update your results, and make a flask app to deploy your results. These tasks are beyond what is required for this project. However, from what you learned in the lessons, you certainly capable of taking these tasks on to improve upon your work here!\n",
    "\n",
    "## Conclusion\n",
    "\n",
    "> Congratulations!  You have reached the end of the Recommendations with IBM project! "
   ]
  },
  {
   "cell_type": "code",
   "execution_count": 40,
   "metadata": {},
   "outputs": [
    {
     "data": {
      "text/plain": [
       "1"
      ]
     },
     "execution_count": 40,
     "metadata": {},
     "output_type": "execute_result"
    }
   ],
   "source": [
    "from subprocess import call\n",
    "call(['python', '-m', 'nbconvert', '--to', 'html', 'IBM_Watson_Recommender.ipynb'])"
   ]
  },
  {
   "cell_type": "code",
   "execution_count": 41,
   "metadata": {},
   "outputs": [
    {
     "name": "stderr",
     "output_type": "stream",
     "text": [
      "[NbConvertApp] Converting notebook IBM_Watson_Recommender.ipynb to html\n",
      "[NbConvertApp] Writing 793910 bytes to IBM_Watson_Recommender.html\n"
     ]
    }
   ],
   "source": [
    "!python -m nbconvert --to html IBM_Watson_Recommender.ipynb"
   ]
  }
 ],
 "metadata": {
  "kernelspec": {
   "display_name": "clean_env",
   "language": "python",
   "name": "clean_env"
  },
  "language_info": {
   "codemirror_mode": {
    "name": "ipython",
    "version": 3
   },
   "file_extension": ".py",
   "mimetype": "text/x-python",
   "name": "python",
   "nbconvert_exporter": "python",
   "pygments_lexer": "ipython3",
   "version": "3.8.5"
  }
 },
 "nbformat": 4,
 "nbformat_minor": 4
}
